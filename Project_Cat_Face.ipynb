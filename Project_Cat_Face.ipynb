{
  "nbformat": 4,
  "nbformat_minor": 0,
  "metadata": {
    "colab": {
      "name": "Cat_face.ipynb",
      "provenance": [],
      "collapsed_sections": []
    },
    "kernelspec": {
      "display_name": "Python 3",
      "name": "python3"
    },
    "language_info": {
      "name": "python"
    }
  },
  "cells": [
    {
      "cell_type": "code",
      "metadata": {
        "id": "FJTYNkliBjca"
      },
      "source": [
        "import os\n",
        "import zipfile\n",
        "os.environ['KAGGLE_USERNAME']=\"lyeeo139\"\n",
        "os.environ['KAGGLE_KEY']=\"5964a26d48f2aa2fa733ce4a76627317\"\n",
        "%mkdir data\n",
        "%cd data\n",
        "%mkdir img\n",
        "%mkdir download\n",
        "%cd download\n",
        "!kaggle datasets download -d tongpython/cat-and-dog\n",
        "local_zip='cat-and-dog.zip'\n",
        "zip_ref=zipfile.ZipFile(local_zip,'r')\n",
        "zip_ref.extractall('.')\n",
        "zip_ref.close()\n",
        "!kaggle datasets download -d ma7555/cat-breeds-dataset\n",
        "local_zip='cat-breeds-dataset.zip'\n",
        "zip_ref=zipfile.ZipFile(local_zip,'r')\n",
        "zip_ref.extractall('.')\n",
        "zip_ref.close()\n",
        "%cd ..\n",
        "%mv download/test_set/test_set/cats/*.jpg img\n",
        "%mv download/training_set/training_set/cats/*.jpg img\n",
        "for folder in os.listdir(\"download/images\"):\n",
        "  for file in os.listdir(\"download/images/\"+folder):\n",
        "    os.replace(\"download/images/\"+folder+\"/\"+file,\"img/\"+file)\n",
        "%rm -r download/"
      ],
      "execution_count": null,
      "outputs": []
    },
    {
      "cell_type": "code",
      "metadata": {
        "id": "nCGLYy-qbwNn"
      },
      "source": [
        "from google.colab import drive\n",
        "\n",
        "%cd '/content'\n",
        "\n",
        "!git clone https://github.com/opencv/opencv"
      ],
      "execution_count": null,
      "outputs": []
    },
    {
      "cell_type": "code",
      "metadata": {
        "colab": {
          "base_uri": "https://localhost:8080/"
        },
        "id": "tIAL3neCI0kk",
        "outputId": "716ed04f-9e8a-4783-9f2b-9dcd151107e9"
      },
      "source": [
        "import os\n",
        "import cv2\n",
        "import logging\n",
        "from google.colab.patches import cv2_imshow\n",
        "\n",
        "# 设置日志\n",
        "logging.basicConfig(level = logging.INFO, format='%(asctime)s - %(levelname)s: %(message)s')\n",
        "logger = logging.getLogger(__name__)\n",
        "\n",
        "# 待检测的图片路径\n",
        "ImagePath = '/content/data/img/'\n",
        "\n",
        "# 輸出的路徑\n",
        "%mkdir cat_face\n",
        "%cd '/content/cat_face'\n",
        "\n",
        "cnt = 0\n",
        "\n",
        "for filename in os.listdir(ImagePath):\n",
        "  temp_path = ImagePath + filename\n",
        "\n",
        "  try:\n",
        "    image = cv2.imread(temp_path)\n",
        "    gray = cv2.cvtColor(image, cv2.COLOR_BGR2GRAY)\n",
        "\n",
        "    face_cascade = cv2.CascadeClassifier(r'/content/opencv/data/haarcascades/haarcascade_frontalcatface.xml')\n",
        "    faces = face_cascade.detectMultiScale(gray,scaleFactor=1.15,minNeighbors=5,minSize=(3, 3))\n",
        "\n",
        "    for (x, y, w, h) in faces:\n",
        "      crop_img = image[y:y+h, x:x+w]\n",
        "      cv2.imwrite(\"cat_face_{0}.jpg\".format(cnt), crop_img)\n",
        "      cnt += 1\n",
        "\n",
        "    cv2.waitKey(0)\n",
        "  except:\n",
        "    continue"
      ],
      "execution_count": null,
      "outputs": [
        {
          "output_type": "stream",
          "text": [
            "/content/cat_face\n"
          ],
          "name": "stdout"
        }
      ]
    },
    {
      "cell_type": "code",
      "metadata": {
        "id": "i7AZy46x7ix8"
      },
      "source": [
        "# 解壓縮並下載\n",
        "from google.colab import files\n",
        "\n",
        "!zip -r '/content/cat_face.zip' '/content/cat_face'\n",
        "files.download('/content/cat_face.zip')"
      ],
      "execution_count": null,
      "outputs": []
    },
    {
      "cell_type": "code",
      "metadata": {
        "id": "EYhkX8sv-yMx"
      },
      "source": [
        "'''\n",
        "# 看有幾張圖片\n",
        "\n",
        "print(len(os.listdir('/content/cat_face')))\n",
        "'''"
      ],
      "execution_count": null,
      "outputs": []
    },
    {
      "cell_type": "code",
      "metadata": {
        "id": "nGAcAQvincz_"
      },
      "source": [
        "'''\n",
        "# 顯示cat_face裡面的圖片\n",
        "\n",
        "import os\n",
        "import cv2\n",
        "from google.colab.patches import cv2_imshow\n",
        "\n",
        "cat_face_Path = '/content/cat_face/'\n",
        "\n",
        "for filename in os.listdir(cat_face_Path):\n",
        "  temp_path = cat_face_Path + filename\n",
        "\n",
        "  print(temp_path)\n",
        "\n",
        "  image = cv2.imread(temp_path)\n",
        "  cv2_imshow(image)\n",
        "  cv2.waitKey(0)\n",
        "'''"
      ],
      "execution_count": null,
      "outputs": []
    },
    {
      "cell_type": "code",
      "metadata": {
        "id": "H_NFQcNLszj3"
      },
      "source": [
        "'''\n",
        "# 刪data\n",
        "\n",
        "import os\n",
        "\n",
        "%cd '/content'\n",
        "\n",
        "for file in os.listdir('/content/cat_face'):\n",
        "  if 'jpg' in file:\n",
        "    os.remove(file)\n",
        "'''"
      ],
      "execution_count": null,
      "outputs": []
    },
    {
      "cell_type": "code",
      "metadata": {
        "id": "dL18F6VDqz3-"
      },
      "source": [
        "'''\n",
        "!rm -rf '/content/opencv'\n",
        "'''"
      ],
      "execution_count": null,
      "outputs": []
    }
  ]
}